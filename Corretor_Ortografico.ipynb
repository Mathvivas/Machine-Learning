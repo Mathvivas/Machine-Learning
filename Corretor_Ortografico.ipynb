{
  "nbformat": 4,
  "nbformat_minor": 0,
  "metadata": {
    "colab": {
      "name": "Corretor_Ortografico.ipynb",
      "provenance": [],
      "collapsed_sections": [],
      "mount_file_id": "1E7bTZaPvl9ColF4NQV-4VAgIL37ADUiP",
      "authorship_tag": "ABX9TyPIyan9BmJHsPPBmxDr2ZQe"
    },
    "kernelspec": {
      "name": "python3",
      "display_name": "Python 3"
    },
    "language_info": {
      "name": "python"
    }
  },
  "cells": [
    {
      "cell_type": "markdown",
      "metadata": {
        "id": "zIdPqZheJl0Y"
      },
      "source": [
        "# Importando a Base de Dados (Corpus)"
      ]
    },
    {
      "cell_type": "code",
      "metadata": {
        "colab": {
          "base_uri": "https://localhost:8080/"
        },
        "id": "S8lUVItwEfYI",
        "outputId": "e1698165-15ce-426f-f2e6-8099ee555ebf"
      },
      "source": [
        "with open('/content/drive/MyDrive/Colab Notebooks/Dados/corretor-master/artigos.txt', 'r') as f:\n",
        "  artigos = f.read()\n",
        "\n",
        "print(artigos[:500])"
      ],
      "execution_count": 1,
      "outputs": [
        {
          "output_type": "stream",
          "text": [
            "\n",
            "\n",
            "\n",
            "imagem \n",
            "\n",
            "Temos a seguinte classe que representa um usuário no nosso sistema:\n",
            "\n",
            "java\n",
            "\n",
            "Para salvar um novo usuário, várias validações são feitas, como por exemplo: Ver se o nome só contém letras, [**o CPF só números**] e ver se o usuário possui no mínimo 18 anos. Veja o método que faz essa validação:\n",
            "\n",
            "java \n",
            "\n",
            "Suponha agora que eu tenha outra classe, a classe `Produto`, que contém um atributo nome e eu quero fazer a mesma validação que fiz para o nome do usuário: Ver se só contém letras. E aí? Vou\n"
          ],
          "name": "stdout"
        }
      ]
    },
    {
      "cell_type": "markdown",
      "metadata": {
        "id": "nLDJqdwHOXPy"
      },
      "source": [
        "# Contagem de Palavras"
      ]
    },
    {
      "cell_type": "code",
      "metadata": {
        "colab": {
          "base_uri": "https://localhost:8080/"
        },
        "id": "tpyTAXMPLO3K",
        "outputId": "6320f842-2bc8-4c68-b1cb-87a86e38ea8c"
      },
      "source": [
        "print(f'Número de caractéres: {len(artigos)} ')"
      ],
      "execution_count": 2,
      "outputs": [
        {
          "output_type": "stream",
          "text": [
            "Número de caractéres: 2605046 \n"
          ],
          "name": "stdout"
        }
      ]
    },
    {
      "cell_type": "code",
      "metadata": {
        "colab": {
          "base_uri": "https://localhost:8080/"
        },
        "id": "H4S13TXSMbNF",
        "outputId": "e767eeff-4b62-4994-eee6-6625e8dccd3c"
      },
      "source": [
        "texto_exemplo = 'Olá, tudo bem?'\n",
        "tokens = texto_exemplo.split()\n",
        "tokens    # Não são palavras, pois estão concatenadas com pontuação"
      ],
      "execution_count": 5,
      "outputs": [
        {
          "output_type": "execute_result",
          "data": {
            "text/plain": [
              "['Olá,', 'tudo', 'bem?']"
            ]
          },
          "metadata": {
            "tags": []
          },
          "execution_count": 5
        }
      ]
    },
    {
      "cell_type": "code",
      "metadata": {
        "id": "h5NzAJETO9DJ"
      },
      "source": [
        "import nltk\n",
        "nltk.download('punkt')"
      ],
      "execution_count": null,
      "outputs": []
    },
    {
      "cell_type": "code",
      "metadata": {
        "colab": {
          "base_uri": "https://localhost:8080/"
        },
        "id": "UB1A4CQmMptj",
        "outputId": "d4a1c194-7036-4a16-830e-d79eca66495f"
      },
      "source": [
        "palavras_separadas = nltk.tokenize.word_tokenize(texto_exemplo)\n",
        "palavras_separadas"
      ],
      "execution_count": 7,
      "outputs": [
        {
          "output_type": "execute_result",
          "data": {
            "text/plain": [
              "['Olá', ',', 'tudo', 'bem', '?']"
            ]
          },
          "metadata": {
            "tags": []
          },
          "execution_count": 7
        }
      ]
    },
    {
      "cell_type": "code",
      "metadata": {
        "colab": {
          "base_uri": "https://localhost:8080/"
        },
        "id": "tBDEF9e4P8LC",
        "outputId": "94930380-f19f-47fd-c539-ad8a0e5734ef"
      },
      "source": [
        "# Pertence ao alfabeto\n",
        "print('bem,'.isalpha())\n",
        "print('bem'.isalpha())"
      ],
      "execution_count": 9,
      "outputs": [
        {
          "output_type": "stream",
          "text": [
            "False\n",
            "True\n"
          ],
          "name": "stdout"
        }
      ]
    },
    {
      "cell_type": "markdown",
      "metadata": {
        "id": "4qzxTsMfTxSe"
      },
      "source": [
        "## Função para separar palavras"
      ]
    },
    {
      "cell_type": "code",
      "metadata": {
        "id": "9_TNgn3qPGBz"
      },
      "source": [
        "def separar_palavras(lista_tokens):\n",
        "  lista_palavras = []\n",
        "  for token in lista_tokens:\n",
        "    if token.isalpha():\n",
        "      lista_palavras.append(token)\n",
        "  return lista_palavras"
      ],
      "execution_count": 10,
      "outputs": []
    },
    {
      "cell_type": "code",
      "metadata": {
        "colab": {
          "base_uri": "https://localhost:8080/"
        },
        "id": "OjJWibupQzgl",
        "outputId": "017aed62-f053-41b4-a8b7-2e0a1cd82f67"
      },
      "source": [
        "separar_palavras(palavras_separadas)"
      ],
      "execution_count": 11,
      "outputs": [
        {
          "output_type": "execute_result",
          "data": {
            "text/plain": [
              "['Olá', 'tudo', 'bem']"
            ]
          },
          "metadata": {
            "tags": []
          },
          "execution_count": 11
        }
      ]
    },
    {
      "cell_type": "code",
      "metadata": {
        "colab": {
          "base_uri": "https://localhost:8080/"
        },
        "id": "5uCLR-ZvRBGL",
        "outputId": "a0e56dd0-0022-4cce-c51e-37826fd08f93"
      },
      "source": [
        "lista_tokens = nltk.tokenize.word_tokenize(artigos)\n",
        "lista_palavras = separar_palavras(lista_tokens)\n",
        "print(f'O número de palavras é {len(lista_palavras)}')"
      ],
      "execution_count": 12,
      "outputs": [
        {
          "output_type": "stream",
          "text": [
            "O número de palavras é 393914\n"
          ],
          "name": "stdout"
        }
      ]
    },
    {
      "cell_type": "markdown",
      "metadata": {
        "id": "-ii53xL8T0cn"
      },
      "source": [
        "## Função para normalizar as palavras"
      ]
    },
    {
      "cell_type": "code",
      "metadata": {
        "id": "oNh-QvKfRstH"
      },
      "source": [
        "def normalizacao(lista_palavras):\n",
        "  lista_normalizada = []\n",
        "  for palavra in lista_palavras:\n",
        "    lista_normalizada.append(palavra.lower())\n",
        "  return lista_normalizada"
      ],
      "execution_count": 13,
      "outputs": []
    },
    {
      "cell_type": "code",
      "metadata": {
        "colab": {
          "base_uri": "https://localhost:8080/"
        },
        "id": "gFOP2afPUsGW",
        "outputId": "19936d2e-f2e3-4604-88e0-830776919232"
      },
      "source": [
        "lista_normalizada = normalizacao(lista_palavras)\n",
        "print(lista_palavras[:5])\n",
        "print(lista_normalizada[:5])"
      ],
      "execution_count": 14,
      "outputs": [
        {
          "output_type": "stream",
          "text": [
            "['imagem', 'Temos', 'a', 'seguinte', 'classe']\n",
            "['imagem', 'temos', 'a', 'seguinte', 'classe']\n"
          ],
          "name": "stdout"
        }
      ]
    },
    {
      "cell_type": "markdown",
      "metadata": {
        "id": "J0yBPLuEVZ80"
      },
      "source": [
        "## Removendo Duplicatas"
      ]
    },
    {
      "cell_type": "code",
      "metadata": {
        "colab": {
          "base_uri": "https://localhost:8080/"
        },
        "id": "aMZCiQN_U5A0",
        "outputId": "66a52222-be28-4931-e09c-94dbe606fc60"
      },
      "source": [
        "print(f'O número de palavras é: {len(set(lista_normalizada))}')"
      ],
      "execution_count": 15,
      "outputs": [
        {
          "output_type": "stream",
          "text": [
            "O número de palavras é: 17652\n"
          ],
          "name": "stdout"
        }
      ]
    },
    {
      "cell_type": "markdown",
      "metadata": {
        "id": "SjJH2coyWTrv"
      },
      "source": [
        "# Inserção de Letras Faltantes e Funções para Desenvolver o Corretor"
      ]
    },
    {
      "cell_type": "markdown",
      "metadata": {
        "id": "ypuVk2j9aUIp"
      },
      "source": [
        "## Função para Inserir as Letras entre a Esquerda e a Direita\n",
        "\n"
      ]
    },
    {
      "cell_type": "code",
      "metadata": {
        "id": "uZHWCsYnaX7a"
      },
      "source": [
        "def inserir_letras(fatias):\n",
        "  novas_palavras = []\n",
        "  letras = 'abcdefghijklmnopqrstuvwxyzàáâãèéêìíîòóôõùúûç'\n",
        "  for esq, dir in fatias:\n",
        "    for letra in letras:\n",
        "      novas_palavras.append(esq + letra + dir)\n",
        "\n",
        "  return novas_palavras"
      ],
      "execution_count": 17,
      "outputs": []
    },
    {
      "cell_type": "markdown",
      "metadata": {
        "id": "evMFugtEat6p"
      },
      "source": [
        "## Fatiamento de palavras - Exemplo"
      ]
    },
    {
      "cell_type": "code",
      "metadata": {
        "colab": {
          "base_uri": "https://localhost:8080/"
        },
        "id": "E3GUfTvPatWw",
        "outputId": "eb2bef6f-5c63-4d0f-800b-85ac64b90c4a"
      },
      "source": [
        "lista = 'lgica'\n",
        "(lista[:1], lista[1:])"
      ],
      "execution_count": 16,
      "outputs": [
        {
          "output_type": "execute_result",
          "data": {
            "text/plain": [
              "('l', 'gica')"
            ]
          },
          "metadata": {
            "tags": []
          },
          "execution_count": 16
        }
      ]
    },
    {
      "cell_type": "markdown",
      "metadata": {
        "id": "3Kc2g-FiZCvd"
      },
      "source": [
        "## Função para Gerar Possíveis Palavras"
      ]
    },
    {
      "cell_type": "code",
      "metadata": {
        "id": "zBl3tz2NVpxs"
      },
      "source": [
        "palavra_exemplo = 'lgica'\n",
        "\n",
        "def gerador_palavras(palavra):\n",
        "  fatias = []\n",
        "  for i in range(len(palavra) + 1):\n",
        "    fatias.append((palavra[:i], palavra[i:]))   # Fatiamento de Palavras\n",
        "  palavras_geradas = inserir_letras(fatias)\n",
        "  return palavras_geradas"
      ],
      "execution_count": 31,
      "outputs": []
    },
    {
      "cell_type": "code",
      "metadata": {
        "colab": {
          "base_uri": "https://localhost:8080/"
        },
        "id": "CKEPqRJNeJ2v",
        "outputId": "82875b0c-bd2e-4304-a27d-7f2c336381ff"
      },
      "source": [
        "palavra_exemplo = 'lgica'\n",
        "palavras_geradas = gerador_palavras(palavra_exemplo)\n",
        "print(palavras_geradas)"
      ],
      "execution_count": 22,
      "outputs": [
        {
          "output_type": "stream",
          "text": [
            "['algica', 'blgica', 'clgica', 'dlgica', 'elgica', 'flgica', 'glgica', 'hlgica', 'ilgica', 'jlgica', 'klgica', 'llgica', 'mlgica', 'nlgica', 'olgica', 'plgica', 'qlgica', 'rlgica', 'slgica', 'tlgica', 'ulgica', 'vlgica', 'wlgica', 'xlgica', 'ylgica', 'zlgica', 'àlgica', 'álgica', 'âlgica', 'ãlgica', 'èlgica', 'élgica', 'êlgica', 'ìlgica', 'ílgica', 'îlgica', 'òlgica', 'ólgica', 'ôlgica', 'õlgica', 'ùlgica', 'úlgica', 'ûlgica', 'çlgica', 'lagica', 'lbgica', 'lcgica', 'ldgica', 'legica', 'lfgica', 'lggica', 'lhgica', 'ligica', 'ljgica', 'lkgica', 'llgica', 'lmgica', 'lngica', 'logica', 'lpgica', 'lqgica', 'lrgica', 'lsgica', 'ltgica', 'lugica', 'lvgica', 'lwgica', 'lxgica', 'lygica', 'lzgica', 'làgica', 'lágica', 'lâgica', 'lãgica', 'lègica', 'légica', 'lêgica', 'lìgica', 'lígica', 'lîgica', 'lògica', 'lógica', 'lôgica', 'lõgica', 'lùgica', 'lúgica', 'lûgica', 'lçgica', 'lgaica', 'lgbica', 'lgcica', 'lgdica', 'lgeica', 'lgfica', 'lggica', 'lghica', 'lgiica', 'lgjica', 'lgkica', 'lglica', 'lgmica', 'lgnica', 'lgoica', 'lgpica', 'lgqica', 'lgrica', 'lgsica', 'lgtica', 'lguica', 'lgvica', 'lgwica', 'lgxica', 'lgyica', 'lgzica', 'lgàica', 'lgáica', 'lgâica', 'lgãica', 'lgèica', 'lgéica', 'lgêica', 'lgìica', 'lgíica', 'lgîica', 'lgòica', 'lgóica', 'lgôica', 'lgõica', 'lgùica', 'lgúica', 'lgûica', 'lgçica', 'lgiaca', 'lgibca', 'lgicca', 'lgidca', 'lgieca', 'lgifca', 'lgigca', 'lgihca', 'lgiica', 'lgijca', 'lgikca', 'lgilca', 'lgimca', 'lginca', 'lgioca', 'lgipca', 'lgiqca', 'lgirca', 'lgisca', 'lgitca', 'lgiuca', 'lgivca', 'lgiwca', 'lgixca', 'lgiyca', 'lgizca', 'lgiàca', 'lgiáca', 'lgiâca', 'lgiãca', 'lgièca', 'lgiéca', 'lgiêca', 'lgiìca', 'lgiíca', 'lgiîca', 'lgiòca', 'lgióca', 'lgiôca', 'lgiõca', 'lgiùca', 'lgiúca', 'lgiûca', 'lgiçca', 'lgicaa', 'lgicba', 'lgicca', 'lgicda', 'lgicea', 'lgicfa', 'lgicga', 'lgicha', 'lgicia', 'lgicja', 'lgicka', 'lgicla', 'lgicma', 'lgicna', 'lgicoa', 'lgicpa', 'lgicqa', 'lgicra', 'lgicsa', 'lgicta', 'lgicua', 'lgicva', 'lgicwa', 'lgicxa', 'lgicya', 'lgicza', 'lgicàa', 'lgicáa', 'lgicâa', 'lgicãa', 'lgicèa', 'lgicéa', 'lgicêa', 'lgicìa', 'lgicía', 'lgicîa', 'lgicòa', 'lgicóa', 'lgicôa', 'lgicõa', 'lgicùa', 'lgicúa', 'lgicûa', 'lgicça', 'lgicaa', 'lgicab', 'lgicac', 'lgicad', 'lgicae', 'lgicaf', 'lgicag', 'lgicah', 'lgicai', 'lgicaj', 'lgicak', 'lgical', 'lgicam', 'lgican', 'lgicao', 'lgicap', 'lgicaq', 'lgicar', 'lgicas', 'lgicat', 'lgicau', 'lgicav', 'lgicaw', 'lgicax', 'lgicay', 'lgicaz', 'lgicaà', 'lgicaá', 'lgicaâ', 'lgicaã', 'lgicaè', 'lgicaé', 'lgicaê', 'lgicaì', 'lgicaí', 'lgicaî', 'lgicaò', 'lgicaó', 'lgicaô', 'lgicaõ', 'lgicaù', 'lgicaú', 'lgicaû', 'lgicaç']\n"
          ],
          "name": "stdout"
        }
      ]
    },
    {
      "cell_type": "markdown",
      "metadata": {
        "id": "A97yf7d_jC5j"
      },
      "source": [
        "## Função para Calcular a Probabilidade das Palavras Geradas"
      ]
    },
    {
      "cell_type": "code",
      "metadata": {
        "colab": {
          "base_uri": "https://localhost:8080/"
        },
        "id": "lNdO8qHyjHS_",
        "outputId": "f7357af8-d8f2-4515-d459-039230f8e4ff"
      },
      "source": [
        "total_de_palavras = len(lista_normalizada)\n",
        "frequencia = nltk.FreqDist(lista_normalizada)\n",
        "frequencia.most_common(10)"
      ],
      "execution_count": 26,
      "outputs": [
        {
          "output_type": "execute_result",
          "data": {
            "text/plain": [
              "[('de', 15494),\n",
              " ('o', 13966),\n",
              " ('que', 12225),\n",
              " ('a', 11034),\n",
              " ('e', 10478),\n",
              " ('para', 7694),\n",
              " ('um', 6346),\n",
              " ('é', 5881),\n",
              " ('uma', 5202),\n",
              " ('do', 5116)]"
            ]
          },
          "metadata": {
            "tags": []
          },
          "execution_count": 26
        }
      ]
    },
    {
      "cell_type": "code",
      "metadata": {
        "colab": {
          "base_uri": "https://localhost:8080/"
        },
        "id": "JwrmpR9pjvO_",
        "outputId": "9ad62dfd-a2ea-4100-d74f-e503383ae708"
      },
      "source": [
        "frequencia['lógica']"
      ],
      "execution_count": 24,
      "outputs": [
        {
          "output_type": "execute_result",
          "data": {
            "text/plain": [
              "87"
            ]
          },
          "metadata": {
            "tags": []
          },
          "execution_count": 24
        }
      ]
    },
    {
      "cell_type": "code",
      "metadata": {
        "id": "_8uiXIUskLfp"
      },
      "source": [
        "total_de_palavras = len(lista_normalizada)"
      ],
      "execution_count": 25,
      "outputs": []
    },
    {
      "cell_type": "code",
      "metadata": {
        "id": "EkJP3axQju-V"
      },
      "source": [
        "def probabilidade(palavra_gerada):\n",
        "  return frequencia[palavra_gerada] / total_de_palavras"
      ],
      "execution_count": 27,
      "outputs": []
    },
    {
      "cell_type": "code",
      "metadata": {
        "colab": {
          "base_uri": "https://localhost:8080/"
        },
        "id": "vUYFks18klL1",
        "outputId": "4c5ed27b-5ad7-468b-d9e2-19169568ba74"
      },
      "source": [
        "probabilidade('lógica')"
      ],
      "execution_count": 28,
      "outputs": [
        {
          "output_type": "execute_result",
          "data": {
            "text/plain": [
              "0.00022086039084673304"
            ]
          },
          "metadata": {
            "tags": []
          },
          "execution_count": 28
        }
      ]
    },
    {
      "cell_type": "markdown",
      "metadata": {
        "id": "8Gyfc9h-g6q1"
      },
      "source": [
        "## Função Corretor para Definir a Palavra Correta"
      ]
    },
    {
      "cell_type": "code",
      "metadata": {
        "id": "MPeFEH6Sebrq"
      },
      "source": [
        "def corretor(palavra):\n",
        "  palavras_geradas = gerador_palavras(palavra)\n",
        "  palavra_correta = max(palavras_geradas, key=probabilidade)\n",
        "  return palavra_correta"
      ],
      "execution_count": 29,
      "outputs": []
    },
    {
      "cell_type": "code",
      "metadata": {
        "colab": {
          "base_uri": "https://localhost:8080/",
          "height": 35
        },
        "id": "aVtFqDzQjJO6",
        "outputId": "d8738ccd-c648-4636-c8e5-86a153b188ac"
      },
      "source": [
        "corretor(palavra_exemplo)"
      ],
      "execution_count": 30,
      "outputs": [
        {
          "output_type": "execute_result",
          "data": {
            "application/vnd.google.colaboratory.intrinsic+json": {
              "type": "string"
            },
            "text/plain": [
              "'lógica'"
            ]
          },
          "metadata": {
            "tags": []
          },
          "execution_count": 30
        }
      ]
    },
    {
      "cell_type": "markdown",
      "metadata": {
        "id": "AYWaCTd_l-8B"
      },
      "source": [
        "## Função para Criar os Dados de Teste"
      ]
    },
    {
      "cell_type": "code",
      "metadata": {
        "id": "4zRtebvwlF9E"
      },
      "source": [
        "def criar_dados_teste(caminho_arquivo):\n",
        "  lista_palavras_teste = []\n",
        "  f = open(caminho_arquivo, 'r')\n",
        "  for linha in f:\n",
        "    correta, errada = linha.split()\n",
        "    lista_palavras_teste.append((correta, errada))\n",
        "  f.close()\n",
        "  return lista_palavras_teste"
      ],
      "execution_count": 32,
      "outputs": []
    },
    {
      "cell_type": "code",
      "metadata": {
        "colab": {
          "base_uri": "https://localhost:8080/"
        },
        "id": "rHl1GkmhnnFn",
        "outputId": "5bcb5d7d-3ffe-4b78-ec61-2c768caa6625"
      },
      "source": [
        "lista_teste = criar_dados_teste('/content/drive/MyDrive/Colab Notebooks/Dados/corretor-master/palavras.txt')\n",
        "lista_teste"
      ],
      "execution_count": 34,
      "outputs": [
        {
          "output_type": "execute_result",
          "data": {
            "text/plain": [
              "[('podemos', 'pyodemos'),\n",
              " ('esse', 'esje'),\n",
              " ('já', 'jrá'),\n",
              " ('nosso', 'nossov'),\n",
              " ('são', 'sãêo'),\n",
              " ('dos', 'dosa'),\n",
              " ('muito', 'muifo'),\n",
              " ('imagem', 'iômagem'),\n",
              " ('sua', 'ósua'),\n",
              " ('também', 'tambéùm'),\n",
              " ('ele', 'eme'),\n",
              " ('fazer', 'èazer'),\n",
              " ('temos', 'temfs'),\n",
              " ('essa', 'eàssa'),\n",
              " ('quando', 'quaôdo'),\n",
              " ('vamos', 'vamvos'),\n",
              " ('sobre', 'hsobre'),\n",
              " ('java', 'sjava'),\n",
              " ('das', 'daõs'),\n",
              " ('agora', 'agorah'),\n",
              " ('está', 'eòtá'),\n",
              " ('cada', 'céda'),\n",
              " ('mesmo', 'zmesmo'),\n",
              " ('nos', 'noâ'),\n",
              " ('forma', 'fobma'),\n",
              " ('seja', 'sejéa'),\n",
              " ('então', 'enêão'),\n",
              " ('criar', 'èriar'),\n",
              " ('código', 'cóeigo'),\n",
              " ('caso', 'casío'),\n",
              " ('exemplo', 'áexemplo'),\n",
              " ('tem', 'tĩem'),\n",
              " ('usuário', 'usuárôio'),\n",
              " ('dados', 'dfados'),\n",
              " ('python', 'pgthon'),\n",
              " ('nossa', 'nossah'),\n",
              " ('além', 'alémè'),\n",
              " ('assim', 'asõim'),\n",
              " ('ter', 'teb'),\n",
              " ('até', 'atĩ'),\n",
              " ('bem', 'âem'),\n",
              " ('design', 'desigen'),\n",
              " ('trabalho', 'trabalàho'),\n",
              " ('foi', 'foo'),\n",
              " ('apenas', 'apenaũ'),\n",
              " ('empresa', 'empresà'),\n",
              " ('valor', 'valíor'),\n",
              " ('será', 'serr'),\n",
              " ('entre', 'entke'),\n",
              " ('método', 'méqodo'),\n",
              " ('precisamos', 'precisamops'),\n",
              " ('ainda', 'ainàa'),\n",
              " ('vai', 'van'),\n",
              " ('conteúdo', 'ûconteúdo'),\n",
              " ('seus', 'çeus'),\n",
              " ('eu', 'eû'),\n",
              " ('todos', 'todtos'),\n",
              " ('tempo', 'temeo'),\n",
              " ('sempre', 'semre'),\n",
              " ('qual', 'quakl'),\n",
              " ('ela', 'elaá'),\n",
              " ('só', 'síó'),\n",
              " ('utilizar', 'utiqizar'),\n",
              " ('projeto', 'prhojeto'),\n",
              " ('site', 'siàe'),\n",
              " ('sem', 'seém'),\n",
              " ('pelo', 'peln'),\n",
              " ('alura', 'aléra'),\n",
              " ('dia', 'tdia'),\n",
              " ('tudo', 'tuúo'),\n",
              " ('podemos', 'kpodemos'),\n",
              " ('esse', 'eẽsse'),\n",
              " ('já', 'jé'),\n",
              " ('nosso', 'nçosso'),\n",
              " ('são', 'sãô'),\n",
              " ('dos', 'odos'),\n",
              " ('muito', 'tuito'),\n",
              " ('imagem', 'imõgem'),\n",
              " ('sua', 'siua'),\n",
              " ('também', 'tamvbém'),\n",
              " ('ele', 'elpe'),\n",
              " ('fazer', 'façzer'),\n",
              " ('temos', 'teos'),\n",
              " ('essa', 'eũsa'),\n",
              " ('quando', 'quaìdo'),\n",
              " ('vamos', 'vjmos'),\n",
              " ('sobre', 'sxobre'),\n",
              " ('java', 'jkva'),\n",
              " ('das', 'dms'),\n",
              " ('agora', 'agtora'),\n",
              " ('está', 'esútá'),\n",
              " ('cada', 'cava'),\n",
              " ('mesmo', 'medmo'),\n",
              " ('nos', 'ános'),\n",
              " ('forma', 'forûa'),\n",
              " ('seja', 'smeja'),\n",
              " ('então', 'enjtão'),\n",
              " ('criar', 'criôar'),\n",
              " ('código', 'cóàigo'),\n",
              " ('caso', 'èaso'),\n",
              " ('exemplo', 'exbemplo'),\n",
              " ('tem', 'túem'),\n",
              " ('usuário', 'usuárin'),\n",
              " ('dados', 'daáos'),\n",
              " ('python', 'pythoçn'),\n",
              " ('nossa', 'nossk'),\n",
              " ('além', 'âlém'),\n",
              " ('assim', 'aóssim'),\n",
              " ('ter', 'tãer'),\n",
              " ('até', 'vté'),\n",
              " ('bem', 'búm'),\n",
              " ('design', 'íesign'),\n",
              " ('trabalho', 'trabèalho'),\n",
              " ('foi', 'kfoi'),\n",
              " ('apenas', 'aapenas'),\n",
              " ('empresa', 'pmpresa'),\n",
              " ('valor', 'valoqr'),\n",
              " ('será', 'sçerá'),\n",
              " ('entre', 'entró'),\n",
              " ('método', 'nétodo'),\n",
              " ('precisamos', 'prefcisamos'),\n",
              " ('ainda', 'sainda'),\n",
              " ('vai', 'uai'),\n",
              " ('conteúdo', 'cĩonteúdo'),\n",
              " ('seus', 'sâus'),\n",
              " ('eu', 'ìeu'),\n",
              " ('todos', 'todás'),\n",
              " ('tempo', 'utempo'),\n",
              " ('sempre', 'sempce'),\n",
              " ('qual', 'fual'),\n",
              " ('ela', 'elal'),\n",
              " ('só', 'skó'),\n",
              " ('utilizar', 'utilĩzar'),\n",
              " ('projeto', 'proójeto'),\n",
              " ('site', 'isite'),\n",
              " ('sem', 'secm'),\n",
              " ('pelo', 'pẽlo'),\n",
              " ('alura', 'aluéa'),\n",
              " ('dia', 'dil'),\n",
              " ('tudo', 'tudy'),\n",
              " ('ela', 'qelay'),\n",
              " ('só', 'sód'),\n",
              " ('utilizar', 'dtilizacr'),\n",
              " ('projeto', 'bprojõto'),\n",
              " ('site', 'ysiteo'),\n",
              " ('sem', 'sõêm'),\n",
              " ('pelo', 'peàli'),\n",
              " ('alura', 'asuraó'),\n",
              " ('dia', 'deiìa'),\n",
              " ('tudo', 'tuĩdoì'),\n",
              " ('ela', 'eúaa'),\n",
              " ('só', 'ró'),\n",
              " ('utilizar', 'utilizẽaçr'),\n",
              " ('projeto', 'prêjetó'),\n",
              " ('site', 'sqiqte'),\n",
              " ('sem', 'sũexm'),\n",
              " ('pelo', 'pçlxo'),\n",
              " ('alura', 'uluraa'),\n",
              " ('dia', 'dĩaz'),\n",
              " ('tudo', 'kzudo'),\n",
              " ('corretor', 'correptor'),\n",
              " ('tática', 'trtica'),\n",
              " ('empoderamento', 'ewpoderamento'),\n",
              " ('linux', 'lifux'),\n",
              " ('cachorro', 'cachoçro'),\n",
              " ('gato', 'îgato'),\n",
              " ('cavalo', 'cakvalo'),\n",
              " ('relógio', 'relógiuo'),\n",
              " ('canela', 'canelac'),\n",
              " ('tênis', 'tênisy'),\n",
              " ('ansiosa', 'anciosa'),\n",
              " ('ansiosa', 'ancciosa'),\n",
              " ('ansiosa', 'ansioa'),\n",
              " ('empoderamento', 'empoderamento'),\n",
              " ('asterisco', 'asterístico'),\n",
              " ('gratuito', 'gratuíto'),\n",
              " ('entretido', 'entertido'),\n",
              " ('ritmo', 'ritimo'),\n",
              " ('idiota', 'indiota'),\n",
              " ('tomara', 'tomare'),\n",
              " ('seja', 'seje'),\n",
              " ('prevalecer', 'provalecer'),\n",
              " ('esteja', 'esteje'),\n",
              " ('mendigo', 'mindigo'),\n",
              " ('cérebro', 'célebro'),\n",
              " ('perturbar', 'pertubar')]"
            ]
          },
          "metadata": {
            "tags": []
          },
          "execution_count": 34
        }
      ]
    },
    {
      "cell_type": "markdown",
      "metadata": {
        "id": "K2YRHc1Dn-Pf"
      },
      "source": [
        "## Função para Avaliar o Corretor"
      ]
    },
    {
      "cell_type": "code",
      "metadata": {
        "id": "GaRbG475nxA0"
      },
      "source": [
        "def avaliador(testes):\n",
        "  numero_palavras = len(testes)\n",
        "  acertou = 0\n",
        "  for correta, errada in testes:\n",
        "    palavra_corrigida = corretor(errada)\n",
        "    if palavra_corrigida == correta:\n",
        "      acertou += 1\n",
        "\n",
        "  taxa_acerto = acertou * 100 / numero_palavras\n",
        "  print(f'Taxa de Acerto: {taxa_acerto:.2f}% de {numero_palavras} palavras')"
      ],
      "execution_count": 37,
      "outputs": []
    },
    {
      "cell_type": "code",
      "metadata": {
        "colab": {
          "base_uri": "https://localhost:8080/"
        },
        "id": "5av2Ig1apDq5",
        "outputId": "0c466fdb-a7fc-46f2-f2a5-19548fe128e3"
      },
      "source": [
        "avaliador(lista_teste)"
      ],
      "execution_count": 38,
      "outputs": [
        {
          "output_type": "stream",
          "text": [
            "Taxa de Acerto: 1.08% de 186 palavras\n"
          ],
          "name": "stdout"
        }
      ]
    },
    {
      "cell_type": "markdown",
      "metadata": {
        "id": "ro1itYwjrF7S"
      },
      "source": [
        "**Nesse momento, o Corretor corrige somente um tipo de erro**"
      ]
    },
    {
      "cell_type": "markdown",
      "metadata": {
        "id": "9dqSHE1Nq0b3"
      },
      "source": [
        "# Deletar uma Letra Adicional"
      ]
    },
    {
      "cell_type": "markdown",
      "metadata": {
        "id": "hkLbqxhqriU1"
      },
      "source": [
        "## Função para Deletar o Caractere"
      ]
    },
    {
      "cell_type": "code",
      "metadata": {
        "id": "8e_zw7IppGv9"
      },
      "source": [
        "def deletar_caractere(fatias):\n",
        "  novas_palavras = []\n",
        "  for esq, dir in fatias:\n",
        "    novas_palavras.append(esq + dir[1:])\n",
        "  return novas_palavras"
      ],
      "execution_count": 39,
      "outputs": []
    },
    {
      "cell_type": "markdown",
      "metadata": {
        "id": "v3BHhiXD3O_2"
      },
      "source": [
        "## Abrangindo a Função de Gerar Palavras"
      ]
    },
    {
      "cell_type": "code",
      "metadata": {
        "id": "2DmJCgxd1_Qr"
      },
      "source": [
        "def gerador_palavras(palavra):\n",
        "  fatias = []\n",
        "  for i in range(len(palavra) + 1):\n",
        "    fatias.append((palavra[:i], palavra[i:]))   # Fatiamento de Palavras\n",
        "  palavras_geradas = inserir_letras(fatias)\n",
        "  palavras_geradas += deletar_caractere(fatias)\n",
        "  return palavras_geradas"
      ],
      "execution_count": 40,
      "outputs": []
    },
    {
      "cell_type": "code",
      "metadata": {
        "colab": {
          "base_uri": "https://localhost:8080/"
        },
        "id": "pYrTgQ85326s",
        "outputId": "672ae9b6-fa39-4e98-cf3f-9998ef6a5b8d"
      },
      "source": [
        "palavra_exemplo = 'lóigica'\n",
        "palavras_geradas = gerador_palavras(palavra_exemplo)\n",
        "palavras_geradas"
      ],
      "execution_count": 41,
      "outputs": [
        {
          "output_type": "execute_result",
          "data": {
            "text/plain": [
              "['alóigica',\n",
              " 'blóigica',\n",
              " 'clóigica',\n",
              " 'dlóigica',\n",
              " 'elóigica',\n",
              " 'flóigica',\n",
              " 'glóigica',\n",
              " 'hlóigica',\n",
              " 'ilóigica',\n",
              " 'jlóigica',\n",
              " 'klóigica',\n",
              " 'llóigica',\n",
              " 'mlóigica',\n",
              " 'nlóigica',\n",
              " 'olóigica',\n",
              " 'plóigica',\n",
              " 'qlóigica',\n",
              " 'rlóigica',\n",
              " 'slóigica',\n",
              " 'tlóigica',\n",
              " 'ulóigica',\n",
              " 'vlóigica',\n",
              " 'wlóigica',\n",
              " 'xlóigica',\n",
              " 'ylóigica',\n",
              " 'zlóigica',\n",
              " 'àlóigica',\n",
              " 'álóigica',\n",
              " 'âlóigica',\n",
              " 'ãlóigica',\n",
              " 'èlóigica',\n",
              " 'élóigica',\n",
              " 'êlóigica',\n",
              " 'ìlóigica',\n",
              " 'ílóigica',\n",
              " 'îlóigica',\n",
              " 'òlóigica',\n",
              " 'ólóigica',\n",
              " 'ôlóigica',\n",
              " 'õlóigica',\n",
              " 'ùlóigica',\n",
              " 'úlóigica',\n",
              " 'ûlóigica',\n",
              " 'çlóigica',\n",
              " 'laóigica',\n",
              " 'lbóigica',\n",
              " 'lcóigica',\n",
              " 'ldóigica',\n",
              " 'leóigica',\n",
              " 'lfóigica',\n",
              " 'lgóigica',\n",
              " 'lhóigica',\n",
              " 'lióigica',\n",
              " 'ljóigica',\n",
              " 'lkóigica',\n",
              " 'llóigica',\n",
              " 'lmóigica',\n",
              " 'lnóigica',\n",
              " 'loóigica',\n",
              " 'lpóigica',\n",
              " 'lqóigica',\n",
              " 'lróigica',\n",
              " 'lsóigica',\n",
              " 'ltóigica',\n",
              " 'luóigica',\n",
              " 'lvóigica',\n",
              " 'lwóigica',\n",
              " 'lxóigica',\n",
              " 'lyóigica',\n",
              " 'lzóigica',\n",
              " 'làóigica',\n",
              " 'láóigica',\n",
              " 'lâóigica',\n",
              " 'lãóigica',\n",
              " 'lèóigica',\n",
              " 'léóigica',\n",
              " 'lêóigica',\n",
              " 'lìóigica',\n",
              " 'líóigica',\n",
              " 'lîóigica',\n",
              " 'lòóigica',\n",
              " 'lóóigica',\n",
              " 'lôóigica',\n",
              " 'lõóigica',\n",
              " 'lùóigica',\n",
              " 'lúóigica',\n",
              " 'lûóigica',\n",
              " 'lçóigica',\n",
              " 'lóaigica',\n",
              " 'lóbigica',\n",
              " 'lócigica',\n",
              " 'lódigica',\n",
              " 'lóeigica',\n",
              " 'lófigica',\n",
              " 'lógigica',\n",
              " 'lóhigica',\n",
              " 'lóiigica',\n",
              " 'lójigica',\n",
              " 'lókigica',\n",
              " 'lóligica',\n",
              " 'lómigica',\n",
              " 'lónigica',\n",
              " 'lóoigica',\n",
              " 'lópigica',\n",
              " 'lóqigica',\n",
              " 'lórigica',\n",
              " 'lósigica',\n",
              " 'lótigica',\n",
              " 'lóuigica',\n",
              " 'lóvigica',\n",
              " 'lówigica',\n",
              " 'lóxigica',\n",
              " 'lóyigica',\n",
              " 'lózigica',\n",
              " 'lóàigica',\n",
              " 'lóáigica',\n",
              " 'lóâigica',\n",
              " 'lóãigica',\n",
              " 'lóèigica',\n",
              " 'lóéigica',\n",
              " 'lóêigica',\n",
              " 'lóìigica',\n",
              " 'lóíigica',\n",
              " 'lóîigica',\n",
              " 'lóòigica',\n",
              " 'lóóigica',\n",
              " 'lóôigica',\n",
              " 'lóõigica',\n",
              " 'lóùigica',\n",
              " 'lóúigica',\n",
              " 'lóûigica',\n",
              " 'lóçigica',\n",
              " 'lóiagica',\n",
              " 'lóibgica',\n",
              " 'lóicgica',\n",
              " 'lóidgica',\n",
              " 'lóiegica',\n",
              " 'lóifgica',\n",
              " 'lóiggica',\n",
              " 'lóihgica',\n",
              " 'lóiigica',\n",
              " 'lóijgica',\n",
              " 'lóikgica',\n",
              " 'lóilgica',\n",
              " 'lóimgica',\n",
              " 'lóingica',\n",
              " 'lóiogica',\n",
              " 'lóipgica',\n",
              " 'lóiqgica',\n",
              " 'lóirgica',\n",
              " 'lóisgica',\n",
              " 'lóitgica',\n",
              " 'lóiugica',\n",
              " 'lóivgica',\n",
              " 'lóiwgica',\n",
              " 'lóixgica',\n",
              " 'lóiygica',\n",
              " 'lóizgica',\n",
              " 'lóiàgica',\n",
              " 'lóiágica',\n",
              " 'lóiâgica',\n",
              " 'lóiãgica',\n",
              " 'lóiègica',\n",
              " 'lóiégica',\n",
              " 'lóiêgica',\n",
              " 'lóiìgica',\n",
              " 'lóiígica',\n",
              " 'lóiîgica',\n",
              " 'lóiògica',\n",
              " 'lóiógica',\n",
              " 'lóiôgica',\n",
              " 'lóiõgica',\n",
              " 'lóiùgica',\n",
              " 'lóiúgica',\n",
              " 'lóiûgica',\n",
              " 'lóiçgica',\n",
              " 'lóigaica',\n",
              " 'lóigbica',\n",
              " 'lóigcica',\n",
              " 'lóigdica',\n",
              " 'lóigeica',\n",
              " 'lóigfica',\n",
              " 'lóiggica',\n",
              " 'lóighica',\n",
              " 'lóigiica',\n",
              " 'lóigjica',\n",
              " 'lóigkica',\n",
              " 'lóiglica',\n",
              " 'lóigmica',\n",
              " 'lóignica',\n",
              " 'lóigoica',\n",
              " 'lóigpica',\n",
              " 'lóigqica',\n",
              " 'lóigrica',\n",
              " 'lóigsica',\n",
              " 'lóigtica',\n",
              " 'lóiguica',\n",
              " 'lóigvica',\n",
              " 'lóigwica',\n",
              " 'lóigxica',\n",
              " 'lóigyica',\n",
              " 'lóigzica',\n",
              " 'lóigàica',\n",
              " 'lóigáica',\n",
              " 'lóigâica',\n",
              " 'lóigãica',\n",
              " 'lóigèica',\n",
              " 'lóigéica',\n",
              " 'lóigêica',\n",
              " 'lóigìica',\n",
              " 'lóigíica',\n",
              " 'lóigîica',\n",
              " 'lóigòica',\n",
              " 'lóigóica',\n",
              " 'lóigôica',\n",
              " 'lóigõica',\n",
              " 'lóigùica',\n",
              " 'lóigúica',\n",
              " 'lóigûica',\n",
              " 'lóigçica',\n",
              " 'lóigiaca',\n",
              " 'lóigibca',\n",
              " 'lóigicca',\n",
              " 'lóigidca',\n",
              " 'lóigieca',\n",
              " 'lóigifca',\n",
              " 'lóigigca',\n",
              " 'lóigihca',\n",
              " 'lóigiica',\n",
              " 'lóigijca',\n",
              " 'lóigikca',\n",
              " 'lóigilca',\n",
              " 'lóigimca',\n",
              " 'lóiginca',\n",
              " 'lóigioca',\n",
              " 'lóigipca',\n",
              " 'lóigiqca',\n",
              " 'lóigirca',\n",
              " 'lóigisca',\n",
              " 'lóigitca',\n",
              " 'lóigiuca',\n",
              " 'lóigivca',\n",
              " 'lóigiwca',\n",
              " 'lóigixca',\n",
              " 'lóigiyca',\n",
              " 'lóigizca',\n",
              " 'lóigiàca',\n",
              " 'lóigiáca',\n",
              " 'lóigiâca',\n",
              " 'lóigiãca',\n",
              " 'lóigièca',\n",
              " 'lóigiéca',\n",
              " 'lóigiêca',\n",
              " 'lóigiìca',\n",
              " 'lóigiíca',\n",
              " 'lóigiîca',\n",
              " 'lóigiòca',\n",
              " 'lóigióca',\n",
              " 'lóigiôca',\n",
              " 'lóigiõca',\n",
              " 'lóigiùca',\n",
              " 'lóigiúca',\n",
              " 'lóigiûca',\n",
              " 'lóigiçca',\n",
              " 'lóigicaa',\n",
              " 'lóigicba',\n",
              " 'lóigicca',\n",
              " 'lóigicda',\n",
              " 'lóigicea',\n",
              " 'lóigicfa',\n",
              " 'lóigicga',\n",
              " 'lóigicha',\n",
              " 'lóigicia',\n",
              " 'lóigicja',\n",
              " 'lóigicka',\n",
              " 'lóigicla',\n",
              " 'lóigicma',\n",
              " 'lóigicna',\n",
              " 'lóigicoa',\n",
              " 'lóigicpa',\n",
              " 'lóigicqa',\n",
              " 'lóigicra',\n",
              " 'lóigicsa',\n",
              " 'lóigicta',\n",
              " 'lóigicua',\n",
              " 'lóigicva',\n",
              " 'lóigicwa',\n",
              " 'lóigicxa',\n",
              " 'lóigicya',\n",
              " 'lóigicza',\n",
              " 'lóigicàa',\n",
              " 'lóigicáa',\n",
              " 'lóigicâa',\n",
              " 'lóigicãa',\n",
              " 'lóigicèa',\n",
              " 'lóigicéa',\n",
              " 'lóigicêa',\n",
              " 'lóigicìa',\n",
              " 'lóigicía',\n",
              " 'lóigicîa',\n",
              " 'lóigicòa',\n",
              " 'lóigicóa',\n",
              " 'lóigicôa',\n",
              " 'lóigicõa',\n",
              " 'lóigicùa',\n",
              " 'lóigicúa',\n",
              " 'lóigicûa',\n",
              " 'lóigicça',\n",
              " 'lóigicaa',\n",
              " 'lóigicab',\n",
              " 'lóigicac',\n",
              " 'lóigicad',\n",
              " 'lóigicae',\n",
              " 'lóigicaf',\n",
              " 'lóigicag',\n",
              " 'lóigicah',\n",
              " 'lóigicai',\n",
              " 'lóigicaj',\n",
              " 'lóigicak',\n",
              " 'lóigical',\n",
              " 'lóigicam',\n",
              " 'lóigican',\n",
              " 'lóigicao',\n",
              " 'lóigicap',\n",
              " 'lóigicaq',\n",
              " 'lóigicar',\n",
              " 'lóigicas',\n",
              " 'lóigicat',\n",
              " 'lóigicau',\n",
              " 'lóigicav',\n",
              " 'lóigicaw',\n",
              " 'lóigicax',\n",
              " 'lóigicay',\n",
              " 'lóigicaz',\n",
              " 'lóigicaà',\n",
              " 'lóigicaá',\n",
              " 'lóigicaâ',\n",
              " 'lóigicaã',\n",
              " 'lóigicaè',\n",
              " 'lóigicaé',\n",
              " 'lóigicaê',\n",
              " 'lóigicaì',\n",
              " 'lóigicaí',\n",
              " 'lóigicaî',\n",
              " 'lóigicaò',\n",
              " 'lóigicaó',\n",
              " 'lóigicaô',\n",
              " 'lóigicaõ',\n",
              " 'lóigicaù',\n",
              " 'lóigicaú',\n",
              " 'lóigicaû',\n",
              " 'lóigicaç',\n",
              " 'óigica',\n",
              " 'ligica',\n",
              " 'lógica',\n",
              " 'lóiica',\n",
              " 'lóigca',\n",
              " 'lóigia',\n",
              " 'lóigic',\n",
              " 'lóigica']"
            ]
          },
          "metadata": {
            "tags": []
          },
          "execution_count": 41
        }
      ]
    },
    {
      "cell_type": "code",
      "metadata": {
        "colab": {
          "base_uri": "https://localhost:8080/"
        },
        "id": "OurIwH7z4FUj",
        "outputId": "631d5d34-ae34-42f4-a164-7b66242ddbec"
      },
      "source": [
        "avaliador(lista_teste)"
      ],
      "execution_count": 42,
      "outputs": [
        {
          "output_type": "stream",
          "text": [
            "Taxa de Acerto: 41.40% de 186 palavras\n"
          ],
          "name": "stdout"
        }
      ]
    },
    {
      "cell_type": "markdown",
      "metadata": {
        "id": "gxmy7KJS7vBo"
      },
      "source": [
        "# Troca de Letras"
      ]
    },
    {
      "cell_type": "code",
      "metadata": {
        "id": "swE93x-04cw6"
      },
      "source": [
        "# Junção das duas anteriores\n",
        "def trocar_letra(fatias):\n",
        "  novas_palavras = []\n",
        "  letras = 'abcdefghijklmnopqrstuvwxyzàáâãèéêìíîòóôõùúûç'\n",
        "  for esq, dir in fatias:\n",
        "    for letra in letras:\n",
        "      novas_palavras.append(esq + letra + dir[1:])\n",
        "  return novas_palavras"
      ],
      "execution_count": 43,
      "outputs": []
    },
    {
      "cell_type": "markdown",
      "metadata": {
        "id": "GMxFrv0z9ESx"
      },
      "source": [
        "## Abrangindo Novamente o Gerador de Palavras"
      ]
    },
    {
      "cell_type": "code",
      "metadata": {
        "id": "-3wlUhcb9Hg1"
      },
      "source": [
        "def gerador_palavras(palavra):\n",
        "  fatias = []\n",
        "  for i in range(len(palavra) + 1):\n",
        "    fatias.append((palavra[:i], palavra[i:]))   # Fatiamento de Palavras\n",
        "  palavras_geradas = inserir_letras(fatias)\n",
        "  palavras_geradas += deletar_caractere(fatias)\n",
        "  palavras_geradas += trocar_letra(fatias)\n",
        "  return palavras_geradas"
      ],
      "execution_count": 44,
      "outputs": []
    },
    {
      "cell_type": "code",
      "metadata": {
        "colab": {
          "base_uri": "https://localhost:8080/"
        },
        "id": "7nNwoPaJ9RS4",
        "outputId": "6b63d523-7407-4593-ad76-753891ac6850"
      },
      "source": [
        "palavra_exemplo = 'lígica'\n",
        "palavras_geradas = gerador_palavras(palavra_exemplo)\n",
        "palavras_geradas"
      ],
      "execution_count": 45,
      "outputs": [
        {
          "output_type": "execute_result",
          "data": {
            "text/plain": [
              "['alígica',\n",
              " 'blígica',\n",
              " 'clígica',\n",
              " 'dlígica',\n",
              " 'elígica',\n",
              " 'flígica',\n",
              " 'glígica',\n",
              " 'hlígica',\n",
              " 'ilígica',\n",
              " 'jlígica',\n",
              " 'klígica',\n",
              " 'llígica',\n",
              " 'mlígica',\n",
              " 'nlígica',\n",
              " 'olígica',\n",
              " 'plígica',\n",
              " 'qlígica',\n",
              " 'rlígica',\n",
              " 'slígica',\n",
              " 'tlígica',\n",
              " 'ulígica',\n",
              " 'vlígica',\n",
              " 'wlígica',\n",
              " 'xlígica',\n",
              " 'ylígica',\n",
              " 'zlígica',\n",
              " 'àlígica',\n",
              " 'álígica',\n",
              " 'âlígica',\n",
              " 'ãlígica',\n",
              " 'èlígica',\n",
              " 'élígica',\n",
              " 'êlígica',\n",
              " 'ìlígica',\n",
              " 'ílígica',\n",
              " 'îlígica',\n",
              " 'òlígica',\n",
              " 'ólígica',\n",
              " 'ôlígica',\n",
              " 'õlígica',\n",
              " 'ùlígica',\n",
              " 'úlígica',\n",
              " 'ûlígica',\n",
              " 'çlígica',\n",
              " 'laígica',\n",
              " 'lbígica',\n",
              " 'lcígica',\n",
              " 'ldígica',\n",
              " 'leígica',\n",
              " 'lfígica',\n",
              " 'lgígica',\n",
              " 'lhígica',\n",
              " 'liígica',\n",
              " 'ljígica',\n",
              " 'lkígica',\n",
              " 'llígica',\n",
              " 'lmígica',\n",
              " 'lnígica',\n",
              " 'loígica',\n",
              " 'lpígica',\n",
              " 'lqígica',\n",
              " 'lrígica',\n",
              " 'lsígica',\n",
              " 'ltígica',\n",
              " 'luígica',\n",
              " 'lvígica',\n",
              " 'lwígica',\n",
              " 'lxígica',\n",
              " 'lyígica',\n",
              " 'lzígica',\n",
              " 'làígica',\n",
              " 'láígica',\n",
              " 'lâígica',\n",
              " 'lãígica',\n",
              " 'lèígica',\n",
              " 'léígica',\n",
              " 'lêígica',\n",
              " 'lìígica',\n",
              " 'líígica',\n",
              " 'lîígica',\n",
              " 'lòígica',\n",
              " 'lóígica',\n",
              " 'lôígica',\n",
              " 'lõígica',\n",
              " 'lùígica',\n",
              " 'lúígica',\n",
              " 'lûígica',\n",
              " 'lçígica',\n",
              " 'líagica',\n",
              " 'líbgica',\n",
              " 'lícgica',\n",
              " 'lídgica',\n",
              " 'líegica',\n",
              " 'lífgica',\n",
              " 'líggica',\n",
              " 'líhgica',\n",
              " 'líigica',\n",
              " 'líjgica',\n",
              " 'líkgica',\n",
              " 'lílgica',\n",
              " 'límgica',\n",
              " 'língica',\n",
              " 'líogica',\n",
              " 'lípgica',\n",
              " 'líqgica',\n",
              " 'lírgica',\n",
              " 'lísgica',\n",
              " 'lítgica',\n",
              " 'líugica',\n",
              " 'lívgica',\n",
              " 'líwgica',\n",
              " 'líxgica',\n",
              " 'líygica',\n",
              " 'lízgica',\n",
              " 'líàgica',\n",
              " 'líágica',\n",
              " 'líâgica',\n",
              " 'líãgica',\n",
              " 'líègica',\n",
              " 'líégica',\n",
              " 'líêgica',\n",
              " 'líìgica',\n",
              " 'líígica',\n",
              " 'líîgica',\n",
              " 'líògica',\n",
              " 'líógica',\n",
              " 'líôgica',\n",
              " 'líõgica',\n",
              " 'líùgica',\n",
              " 'líúgica',\n",
              " 'líûgica',\n",
              " 'líçgica',\n",
              " 'lígaica',\n",
              " 'lígbica',\n",
              " 'lígcica',\n",
              " 'lígdica',\n",
              " 'lígeica',\n",
              " 'lígfica',\n",
              " 'líggica',\n",
              " 'líghica',\n",
              " 'lígiica',\n",
              " 'lígjica',\n",
              " 'lígkica',\n",
              " 'líglica',\n",
              " 'lígmica',\n",
              " 'lígnica',\n",
              " 'lígoica',\n",
              " 'lígpica',\n",
              " 'lígqica',\n",
              " 'lígrica',\n",
              " 'lígsica',\n",
              " 'lígtica',\n",
              " 'líguica',\n",
              " 'lígvica',\n",
              " 'lígwica',\n",
              " 'lígxica',\n",
              " 'lígyica',\n",
              " 'lígzica',\n",
              " 'lígàica',\n",
              " 'lígáica',\n",
              " 'lígâica',\n",
              " 'lígãica',\n",
              " 'lígèica',\n",
              " 'lígéica',\n",
              " 'lígêica',\n",
              " 'lígìica',\n",
              " 'lígíica',\n",
              " 'lígîica',\n",
              " 'lígòica',\n",
              " 'lígóica',\n",
              " 'lígôica',\n",
              " 'lígõica',\n",
              " 'lígùica',\n",
              " 'lígúica',\n",
              " 'lígûica',\n",
              " 'lígçica',\n",
              " 'lígiaca',\n",
              " 'lígibca',\n",
              " 'lígicca',\n",
              " 'lígidca',\n",
              " 'lígieca',\n",
              " 'lígifca',\n",
              " 'lígigca',\n",
              " 'lígihca',\n",
              " 'lígiica',\n",
              " 'lígijca',\n",
              " 'lígikca',\n",
              " 'lígilca',\n",
              " 'lígimca',\n",
              " 'líginca',\n",
              " 'lígioca',\n",
              " 'lígipca',\n",
              " 'lígiqca',\n",
              " 'lígirca',\n",
              " 'lígisca',\n",
              " 'lígitca',\n",
              " 'lígiuca',\n",
              " 'lígivca',\n",
              " 'lígiwca',\n",
              " 'lígixca',\n",
              " 'lígiyca',\n",
              " 'lígizca',\n",
              " 'lígiàca',\n",
              " 'lígiáca',\n",
              " 'lígiâca',\n",
              " 'lígiãca',\n",
              " 'lígièca',\n",
              " 'lígiéca',\n",
              " 'lígiêca',\n",
              " 'lígiìca',\n",
              " 'lígiíca',\n",
              " 'lígiîca',\n",
              " 'lígiòca',\n",
              " 'lígióca',\n",
              " 'lígiôca',\n",
              " 'lígiõca',\n",
              " 'lígiùca',\n",
              " 'lígiúca',\n",
              " 'lígiûca',\n",
              " 'lígiçca',\n",
              " 'lígicaa',\n",
              " 'lígicba',\n",
              " 'lígicca',\n",
              " 'lígicda',\n",
              " 'lígicea',\n",
              " 'lígicfa',\n",
              " 'lígicga',\n",
              " 'lígicha',\n",
              " 'lígicia',\n",
              " 'lígicja',\n",
              " 'lígicka',\n",
              " 'lígicla',\n",
              " 'lígicma',\n",
              " 'lígicna',\n",
              " 'lígicoa',\n",
              " 'lígicpa',\n",
              " 'lígicqa',\n",
              " 'lígicra',\n",
              " 'lígicsa',\n",
              " 'lígicta',\n",
              " 'lígicua',\n",
              " 'lígicva',\n",
              " 'lígicwa',\n",
              " 'lígicxa',\n",
              " 'lígicya',\n",
              " 'lígicza',\n",
              " 'lígicàa',\n",
              " 'lígicáa',\n",
              " 'lígicâa',\n",
              " 'lígicãa',\n",
              " 'lígicèa',\n",
              " 'lígicéa',\n",
              " 'lígicêa',\n",
              " 'lígicìa',\n",
              " 'lígicía',\n",
              " 'lígicîa',\n",
              " 'lígicòa',\n",
              " 'lígicóa',\n",
              " 'lígicôa',\n",
              " 'lígicõa',\n",
              " 'lígicùa',\n",
              " 'lígicúa',\n",
              " 'lígicûa',\n",
              " 'lígicça',\n",
              " 'lígicaa',\n",
              " 'lígicab',\n",
              " 'lígicac',\n",
              " 'lígicad',\n",
              " 'lígicae',\n",
              " 'lígicaf',\n",
              " 'lígicag',\n",
              " 'lígicah',\n",
              " 'lígicai',\n",
              " 'lígicaj',\n",
              " 'lígicak',\n",
              " 'lígical',\n",
              " 'lígicam',\n",
              " 'lígican',\n",
              " 'lígicao',\n",
              " 'lígicap',\n",
              " 'lígicaq',\n",
              " 'lígicar',\n",
              " 'lígicas',\n",
              " 'lígicat',\n",
              " 'lígicau',\n",
              " 'lígicav',\n",
              " 'lígicaw',\n",
              " 'lígicax',\n",
              " 'lígicay',\n",
              " 'lígicaz',\n",
              " 'lígicaà',\n",
              " 'lígicaá',\n",
              " 'lígicaâ',\n",
              " 'lígicaã',\n",
              " 'lígicaè',\n",
              " 'lígicaé',\n",
              " 'lígicaê',\n",
              " 'lígicaì',\n",
              " 'lígicaí',\n",
              " 'lígicaî',\n",
              " 'lígicaò',\n",
              " 'lígicaó',\n",
              " 'lígicaô',\n",
              " 'lígicaõ',\n",
              " 'lígicaù',\n",
              " 'lígicaú',\n",
              " 'lígicaû',\n",
              " 'lígicaç',\n",
              " 'ígica',\n",
              " 'lgica',\n",
              " 'líica',\n",
              " 'lígca',\n",
              " 'lígia',\n",
              " 'lígic',\n",
              " 'lígica',\n",
              " 'aígica',\n",
              " 'bígica',\n",
              " 'cígica',\n",
              " 'dígica',\n",
              " 'eígica',\n",
              " 'fígica',\n",
              " 'gígica',\n",
              " 'hígica',\n",
              " 'iígica',\n",
              " 'jígica',\n",
              " 'kígica',\n",
              " 'lígica',\n",
              " 'mígica',\n",
              " 'nígica',\n",
              " 'oígica',\n",
              " 'pígica',\n",
              " 'qígica',\n",
              " 'rígica',\n",
              " 'sígica',\n",
              " 'tígica',\n",
              " 'uígica',\n",
              " 'vígica',\n",
              " 'wígica',\n",
              " 'xígica',\n",
              " 'yígica',\n",
              " 'zígica',\n",
              " 'àígica',\n",
              " 'áígica',\n",
              " 'âígica',\n",
              " 'ãígica',\n",
              " 'èígica',\n",
              " 'éígica',\n",
              " 'êígica',\n",
              " 'ìígica',\n",
              " 'íígica',\n",
              " 'îígica',\n",
              " 'òígica',\n",
              " 'óígica',\n",
              " 'ôígica',\n",
              " 'õígica',\n",
              " 'ùígica',\n",
              " 'úígica',\n",
              " 'ûígica',\n",
              " 'çígica',\n",
              " 'lagica',\n",
              " 'lbgica',\n",
              " 'lcgica',\n",
              " 'ldgica',\n",
              " 'legica',\n",
              " 'lfgica',\n",
              " 'lggica',\n",
              " 'lhgica',\n",
              " 'ligica',\n",
              " 'ljgica',\n",
              " 'lkgica',\n",
              " 'llgica',\n",
              " 'lmgica',\n",
              " 'lngica',\n",
              " 'logica',\n",
              " 'lpgica',\n",
              " 'lqgica',\n",
              " 'lrgica',\n",
              " 'lsgica',\n",
              " 'ltgica',\n",
              " 'lugica',\n",
              " 'lvgica',\n",
              " 'lwgica',\n",
              " 'lxgica',\n",
              " 'lygica',\n",
              " 'lzgica',\n",
              " 'làgica',\n",
              " 'lágica',\n",
              " 'lâgica',\n",
              " 'lãgica',\n",
              " 'lègica',\n",
              " 'légica',\n",
              " 'lêgica',\n",
              " 'lìgica',\n",
              " 'lígica',\n",
              " 'lîgica',\n",
              " 'lògica',\n",
              " 'lógica',\n",
              " 'lôgica',\n",
              " 'lõgica',\n",
              " 'lùgica',\n",
              " 'lúgica',\n",
              " 'lûgica',\n",
              " 'lçgica',\n",
              " 'líaica',\n",
              " 'líbica',\n",
              " 'lícica',\n",
              " 'lídica',\n",
              " 'líeica',\n",
              " 'lífica',\n",
              " 'lígica',\n",
              " 'líhica',\n",
              " 'líiica',\n",
              " 'líjica',\n",
              " 'líkica',\n",
              " 'lílica',\n",
              " 'límica',\n",
              " 'línica',\n",
              " 'líoica',\n",
              " 'lípica',\n",
              " 'líqica',\n",
              " 'lírica',\n",
              " 'lísica',\n",
              " 'lítica',\n",
              " 'líuica',\n",
              " 'lívica',\n",
              " 'líwica',\n",
              " 'líxica',\n",
              " 'líyica',\n",
              " 'lízica',\n",
              " 'líàica',\n",
              " 'líáica',\n",
              " 'líâica',\n",
              " 'líãica',\n",
              " 'líèica',\n",
              " 'líéica',\n",
              " 'líêica',\n",
              " 'líìica',\n",
              " 'lííica',\n",
              " 'líîica',\n",
              " 'líòica',\n",
              " 'líóica',\n",
              " 'líôica',\n",
              " 'líõica',\n",
              " 'líùica',\n",
              " 'líúica',\n",
              " 'líûica',\n",
              " 'líçica',\n",
              " 'lígaca',\n",
              " 'lígbca',\n",
              " 'lígcca',\n",
              " 'lígdca',\n",
              " 'lígeca',\n",
              " 'lígfca',\n",
              " 'líggca',\n",
              " 'líghca',\n",
              " 'lígica',\n",
              " 'lígjca',\n",
              " 'lígkca',\n",
              " 'líglca',\n",
              " 'lígmca',\n",
              " 'lígnca',\n",
              " 'lígoca',\n",
              " 'lígpca',\n",
              " 'lígqca',\n",
              " 'lígrca',\n",
              " 'lígsca',\n",
              " 'lígtca',\n",
              " 'líguca',\n",
              " 'lígvca',\n",
              " 'lígwca',\n",
              " 'lígxca',\n",
              " 'lígyca',\n",
              " 'lígzca',\n",
              " 'lígàca',\n",
              " 'lígáca',\n",
              " 'lígâca',\n",
              " 'lígãca',\n",
              " 'lígèca',\n",
              " 'lígéca',\n",
              " 'lígêca',\n",
              " 'lígìca',\n",
              " 'lígíca',\n",
              " 'lígîca',\n",
              " 'lígòca',\n",
              " 'lígóca',\n",
              " 'lígôca',\n",
              " 'lígõca',\n",
              " 'lígùca',\n",
              " 'lígúca',\n",
              " 'lígûca',\n",
              " 'lígçca',\n",
              " 'lígiaa',\n",
              " 'lígiba',\n",
              " 'lígica',\n",
              " 'lígida',\n",
              " 'lígiea',\n",
              " 'lígifa',\n",
              " 'lígiga',\n",
              " 'lígiha',\n",
              " 'lígiia',\n",
              " 'lígija',\n",
              " 'lígika',\n",
              " 'lígila',\n",
              " 'lígima',\n",
              " 'lígina',\n",
              " 'lígioa',\n",
              " 'lígipa',\n",
              " 'lígiqa',\n",
              " 'lígira',\n",
              " 'lígisa',\n",
              " 'lígita',\n",
              " 'lígiua',\n",
              " 'lígiva',\n",
              " 'lígiwa',\n",
              " 'lígixa',\n",
              " 'lígiya',\n",
              " 'lígiza',\n",
              " 'lígiàa',\n",
              " 'lígiáa',\n",
              " 'lígiâa',\n",
              " 'lígiãa',\n",
              " 'lígièa',\n",
              " 'lígiéa',\n",
              " 'lígiêa',\n",
              " 'lígiìa',\n",
              " 'lígiía',\n",
              " 'lígiîa',\n",
              " 'lígiòa',\n",
              " 'lígióa',\n",
              " 'lígiôa',\n",
              " 'lígiõa',\n",
              " 'lígiùa',\n",
              " 'lígiúa',\n",
              " 'lígiûa',\n",
              " 'lígiça',\n",
              " 'lígica',\n",
              " 'lígicb',\n",
              " 'lígicc',\n",
              " 'lígicd',\n",
              " 'lígice',\n",
              " 'lígicf',\n",
              " 'lígicg',\n",
              " 'lígich',\n",
              " 'lígici',\n",
              " 'lígicj',\n",
              " 'lígick',\n",
              " 'lígicl',\n",
              " 'lígicm',\n",
              " 'lígicn',\n",
              " 'lígico',\n",
              " 'lígicp',\n",
              " 'lígicq',\n",
              " 'lígicr',\n",
              " 'lígics',\n",
              " 'lígict',\n",
              " 'lígicu',\n",
              " 'lígicv',\n",
              " 'lígicw',\n",
              " 'lígicx',\n",
              " 'lígicy',\n",
              " 'lígicz',\n",
              " 'lígicà',\n",
              " 'lígicá',\n",
              " 'lígicâ',\n",
              " 'lígicã',\n",
              " 'lígicè',\n",
              " 'lígicé',\n",
              " 'lígicê',\n",
              " 'lígicì',\n",
              " 'lígicí',\n",
              " 'lígicî',\n",
              " 'lígicò',\n",
              " 'lígicó',\n",
              " 'lígicô',\n",
              " 'lígicõ',\n",
              " 'lígicù',\n",
              " 'lígicú',\n",
              " 'lígicû',\n",
              " 'lígicç',\n",
              " 'lígicaa',\n",
              " 'lígicab',\n",
              " 'lígicac',\n",
              " 'lígicad',\n",
              " 'lígicae',\n",
              " 'lígicaf',\n",
              " 'lígicag',\n",
              " 'lígicah',\n",
              " 'lígicai',\n",
              " 'lígicaj',\n",
              " 'lígicak',\n",
              " 'lígical',\n",
              " 'lígicam',\n",
              " 'lígican',\n",
              " 'lígicao',\n",
              " 'lígicap',\n",
              " 'lígicaq',\n",
              " 'lígicar',\n",
              " 'lígicas',\n",
              " 'lígicat',\n",
              " 'lígicau',\n",
              " 'lígicav',\n",
              " 'lígicaw',\n",
              " 'lígicax',\n",
              " 'lígicay',\n",
              " 'lígicaz',\n",
              " 'lígicaà',\n",
              " 'lígicaá',\n",
              " 'lígicaâ',\n",
              " 'lígicaã',\n",
              " 'lígicaè',\n",
              " 'lígicaé',\n",
              " 'lígicaê',\n",
              " 'lígicaì',\n",
              " 'lígicaí',\n",
              " 'lígicaî',\n",
              " 'lígicaò',\n",
              " 'lígicaó',\n",
              " 'lígicaô',\n",
              " 'lígicaõ',\n",
              " 'lígicaù',\n",
              " 'lígicaú',\n",
              " 'lígicaû',\n",
              " 'lígicaç']"
            ]
          },
          "metadata": {
            "tags": []
          },
          "execution_count": 45
        }
      ]
    },
    {
      "cell_type": "code",
      "metadata": {
        "colab": {
          "base_uri": "https://localhost:8080/"
        },
        "id": "brVaeyAH9dcB",
        "outputId": "d2e64b62-0889-4086-fa08-01d758e150aa"
      },
      "source": [
        "avaliador(lista_teste)"
      ],
      "execution_count": 46,
      "outputs": [
        {
          "output_type": "stream",
          "text": [
            "Taxa de Acerto: 76.34% de 186 palavras\n"
          ],
          "name": "stdout"
        }
      ]
    },
    {
      "cell_type": "markdown",
      "metadata": {
        "id": "H3eCuHly9_lh"
      },
      "source": [
        "# Invertendo Letras"
      ]
    },
    {
      "cell_type": "code",
      "metadata": {
        "id": "2dGYXqbK9yl7"
      },
      "source": [
        "def inverter_letra(fatias):\n",
        "  novas_palavras = []\n",
        "  for esq, dir in fatias:\n",
        "    if len(dir) > 1:\n",
        "      novas_palavras.append(esq + dir[1] + dir[0] + dir[2:])\n",
        "  return novas_palavras"
      ],
      "execution_count": 47,
      "outputs": []
    },
    {
      "cell_type": "markdown",
      "metadata": {
        "id": "rVP-wfsVA4FD"
      },
      "source": [
        "## Abrangindo Novamente o Gerador de Palavras"
      ]
    },
    {
      "cell_type": "code",
      "metadata": {
        "id": "kL5D1FZpA4tu"
      },
      "source": [
        "def gerador_palavras(palavra):\n",
        "  fatias = []\n",
        "  for i in range(len(palavra) + 1):\n",
        "    fatias.append((palavra[:i], palavra[i:]))   # Fatiamento de Palavras\n",
        "  palavras_geradas = inserir_letras(fatias)\n",
        "  palavras_geradas += deletar_caractere(fatias)\n",
        "  palavras_geradas += trocar_letra(fatias)\n",
        "  palavras_geradas += inverter_letra(fatias)\n",
        "  return palavras_geradas"
      ],
      "execution_count": 48,
      "outputs": []
    },
    {
      "cell_type": "code",
      "metadata": {
        "colab": {
          "base_uri": "https://localhost:8080/"
        },
        "id": "GkgSfs4eBD0q",
        "outputId": "f80fd3d5-135b-48c8-e7df-725eed63e1b6"
      },
      "source": [
        "palavra_exemplo = 'lgóica'\n",
        "palavras_geradas = gerador_palavras(palavra_exemplo)\n",
        "palavras_geradas"
      ],
      "execution_count": 49,
      "outputs": [
        {
          "output_type": "execute_result",
          "data": {
            "text/plain": [
              "['algóica',\n",
              " 'blgóica',\n",
              " 'clgóica',\n",
              " 'dlgóica',\n",
              " 'elgóica',\n",
              " 'flgóica',\n",
              " 'glgóica',\n",
              " 'hlgóica',\n",
              " 'ilgóica',\n",
              " 'jlgóica',\n",
              " 'klgóica',\n",
              " 'llgóica',\n",
              " 'mlgóica',\n",
              " 'nlgóica',\n",
              " 'olgóica',\n",
              " 'plgóica',\n",
              " 'qlgóica',\n",
              " 'rlgóica',\n",
              " 'slgóica',\n",
              " 'tlgóica',\n",
              " 'ulgóica',\n",
              " 'vlgóica',\n",
              " 'wlgóica',\n",
              " 'xlgóica',\n",
              " 'ylgóica',\n",
              " 'zlgóica',\n",
              " 'àlgóica',\n",
              " 'álgóica',\n",
              " 'âlgóica',\n",
              " 'ãlgóica',\n",
              " 'èlgóica',\n",
              " 'élgóica',\n",
              " 'êlgóica',\n",
              " 'ìlgóica',\n",
              " 'ílgóica',\n",
              " 'îlgóica',\n",
              " 'òlgóica',\n",
              " 'ólgóica',\n",
              " 'ôlgóica',\n",
              " 'õlgóica',\n",
              " 'ùlgóica',\n",
              " 'úlgóica',\n",
              " 'ûlgóica',\n",
              " 'çlgóica',\n",
              " 'lagóica',\n",
              " 'lbgóica',\n",
              " 'lcgóica',\n",
              " 'ldgóica',\n",
              " 'legóica',\n",
              " 'lfgóica',\n",
              " 'lggóica',\n",
              " 'lhgóica',\n",
              " 'ligóica',\n",
              " 'ljgóica',\n",
              " 'lkgóica',\n",
              " 'llgóica',\n",
              " 'lmgóica',\n",
              " 'lngóica',\n",
              " 'logóica',\n",
              " 'lpgóica',\n",
              " 'lqgóica',\n",
              " 'lrgóica',\n",
              " 'lsgóica',\n",
              " 'ltgóica',\n",
              " 'lugóica',\n",
              " 'lvgóica',\n",
              " 'lwgóica',\n",
              " 'lxgóica',\n",
              " 'lygóica',\n",
              " 'lzgóica',\n",
              " 'làgóica',\n",
              " 'lágóica',\n",
              " 'lâgóica',\n",
              " 'lãgóica',\n",
              " 'lègóica',\n",
              " 'légóica',\n",
              " 'lêgóica',\n",
              " 'lìgóica',\n",
              " 'lígóica',\n",
              " 'lîgóica',\n",
              " 'lògóica',\n",
              " 'lógóica',\n",
              " 'lôgóica',\n",
              " 'lõgóica',\n",
              " 'lùgóica',\n",
              " 'lúgóica',\n",
              " 'lûgóica',\n",
              " 'lçgóica',\n",
              " 'lgaóica',\n",
              " 'lgbóica',\n",
              " 'lgcóica',\n",
              " 'lgdóica',\n",
              " 'lgeóica',\n",
              " 'lgfóica',\n",
              " 'lggóica',\n",
              " 'lghóica',\n",
              " 'lgióica',\n",
              " 'lgjóica',\n",
              " 'lgkóica',\n",
              " 'lglóica',\n",
              " 'lgmóica',\n",
              " 'lgnóica',\n",
              " 'lgoóica',\n",
              " 'lgpóica',\n",
              " 'lgqóica',\n",
              " 'lgróica',\n",
              " 'lgsóica',\n",
              " 'lgtóica',\n",
              " 'lguóica',\n",
              " 'lgvóica',\n",
              " 'lgwóica',\n",
              " 'lgxóica',\n",
              " 'lgyóica',\n",
              " 'lgzóica',\n",
              " 'lgàóica',\n",
              " 'lgáóica',\n",
              " 'lgâóica',\n",
              " 'lgãóica',\n",
              " 'lgèóica',\n",
              " 'lgéóica',\n",
              " 'lgêóica',\n",
              " 'lgìóica',\n",
              " 'lgíóica',\n",
              " 'lgîóica',\n",
              " 'lgòóica',\n",
              " 'lgóóica',\n",
              " 'lgôóica',\n",
              " 'lgõóica',\n",
              " 'lgùóica',\n",
              " 'lgúóica',\n",
              " 'lgûóica',\n",
              " 'lgçóica',\n",
              " 'lgóaica',\n",
              " 'lgóbica',\n",
              " 'lgócica',\n",
              " 'lgódica',\n",
              " 'lgóeica',\n",
              " 'lgófica',\n",
              " 'lgógica',\n",
              " 'lgóhica',\n",
              " 'lgóiica',\n",
              " 'lgójica',\n",
              " 'lgókica',\n",
              " 'lgólica',\n",
              " 'lgómica',\n",
              " 'lgónica',\n",
              " 'lgóoica',\n",
              " 'lgópica',\n",
              " 'lgóqica',\n",
              " 'lgórica',\n",
              " 'lgósica',\n",
              " 'lgótica',\n",
              " 'lgóuica',\n",
              " 'lgóvica',\n",
              " 'lgówica',\n",
              " 'lgóxica',\n",
              " 'lgóyica',\n",
              " 'lgózica',\n",
              " 'lgóàica',\n",
              " 'lgóáica',\n",
              " 'lgóâica',\n",
              " 'lgóãica',\n",
              " 'lgóèica',\n",
              " 'lgóéica',\n",
              " 'lgóêica',\n",
              " 'lgóìica',\n",
              " 'lgóíica',\n",
              " 'lgóîica',\n",
              " 'lgóòica',\n",
              " 'lgóóica',\n",
              " 'lgóôica',\n",
              " 'lgóõica',\n",
              " 'lgóùica',\n",
              " 'lgóúica',\n",
              " 'lgóûica',\n",
              " 'lgóçica',\n",
              " 'lgóiaca',\n",
              " 'lgóibca',\n",
              " 'lgóicca',\n",
              " 'lgóidca',\n",
              " 'lgóieca',\n",
              " 'lgóifca',\n",
              " 'lgóigca',\n",
              " 'lgóihca',\n",
              " 'lgóiica',\n",
              " 'lgóijca',\n",
              " 'lgóikca',\n",
              " 'lgóilca',\n",
              " 'lgóimca',\n",
              " 'lgóinca',\n",
              " 'lgóioca',\n",
              " 'lgóipca',\n",
              " 'lgóiqca',\n",
              " 'lgóirca',\n",
              " 'lgóisca',\n",
              " 'lgóitca',\n",
              " 'lgóiuca',\n",
              " 'lgóivca',\n",
              " 'lgóiwca',\n",
              " 'lgóixca',\n",
              " 'lgóiyca',\n",
              " 'lgóizca',\n",
              " 'lgóiàca',\n",
              " 'lgóiáca',\n",
              " 'lgóiâca',\n",
              " 'lgóiãca',\n",
              " 'lgóièca',\n",
              " 'lgóiéca',\n",
              " 'lgóiêca',\n",
              " 'lgóiìca',\n",
              " 'lgóiíca',\n",
              " 'lgóiîca',\n",
              " 'lgóiòca',\n",
              " 'lgóióca',\n",
              " 'lgóiôca',\n",
              " 'lgóiõca',\n",
              " 'lgóiùca',\n",
              " 'lgóiúca',\n",
              " 'lgóiûca',\n",
              " 'lgóiçca',\n",
              " 'lgóicaa',\n",
              " 'lgóicba',\n",
              " 'lgóicca',\n",
              " 'lgóicda',\n",
              " 'lgóicea',\n",
              " 'lgóicfa',\n",
              " 'lgóicga',\n",
              " 'lgóicha',\n",
              " 'lgóicia',\n",
              " 'lgóicja',\n",
              " 'lgóicka',\n",
              " 'lgóicla',\n",
              " 'lgóicma',\n",
              " 'lgóicna',\n",
              " 'lgóicoa',\n",
              " 'lgóicpa',\n",
              " 'lgóicqa',\n",
              " 'lgóicra',\n",
              " 'lgóicsa',\n",
              " 'lgóicta',\n",
              " 'lgóicua',\n",
              " 'lgóicva',\n",
              " 'lgóicwa',\n",
              " 'lgóicxa',\n",
              " 'lgóicya',\n",
              " 'lgóicza',\n",
              " 'lgóicàa',\n",
              " 'lgóicáa',\n",
              " 'lgóicâa',\n",
              " 'lgóicãa',\n",
              " 'lgóicèa',\n",
              " 'lgóicéa',\n",
              " 'lgóicêa',\n",
              " 'lgóicìa',\n",
              " 'lgóicía',\n",
              " 'lgóicîa',\n",
              " 'lgóicòa',\n",
              " 'lgóicóa',\n",
              " 'lgóicôa',\n",
              " 'lgóicõa',\n",
              " 'lgóicùa',\n",
              " 'lgóicúa',\n",
              " 'lgóicûa',\n",
              " 'lgóicça',\n",
              " 'lgóicaa',\n",
              " 'lgóicab',\n",
              " 'lgóicac',\n",
              " 'lgóicad',\n",
              " 'lgóicae',\n",
              " 'lgóicaf',\n",
              " 'lgóicag',\n",
              " 'lgóicah',\n",
              " 'lgóicai',\n",
              " 'lgóicaj',\n",
              " 'lgóicak',\n",
              " 'lgóical',\n",
              " 'lgóicam',\n",
              " 'lgóican',\n",
              " 'lgóicao',\n",
              " 'lgóicap',\n",
              " 'lgóicaq',\n",
              " 'lgóicar',\n",
              " 'lgóicas',\n",
              " 'lgóicat',\n",
              " 'lgóicau',\n",
              " 'lgóicav',\n",
              " 'lgóicaw',\n",
              " 'lgóicax',\n",
              " 'lgóicay',\n",
              " 'lgóicaz',\n",
              " 'lgóicaà',\n",
              " 'lgóicaá',\n",
              " 'lgóicaâ',\n",
              " 'lgóicaã',\n",
              " 'lgóicaè',\n",
              " 'lgóicaé',\n",
              " 'lgóicaê',\n",
              " 'lgóicaì',\n",
              " 'lgóicaí',\n",
              " 'lgóicaî',\n",
              " 'lgóicaò',\n",
              " 'lgóicaó',\n",
              " 'lgóicaô',\n",
              " 'lgóicaõ',\n",
              " 'lgóicaù',\n",
              " 'lgóicaú',\n",
              " 'lgóicaû',\n",
              " 'lgóicaç',\n",
              " 'góica',\n",
              " 'lóica',\n",
              " 'lgica',\n",
              " 'lgóca',\n",
              " 'lgóia',\n",
              " 'lgóic',\n",
              " 'lgóica',\n",
              " 'agóica',\n",
              " 'bgóica',\n",
              " 'cgóica',\n",
              " 'dgóica',\n",
              " 'egóica',\n",
              " 'fgóica',\n",
              " 'ggóica',\n",
              " 'hgóica',\n",
              " 'igóica',\n",
              " 'jgóica',\n",
              " 'kgóica',\n",
              " 'lgóica',\n",
              " 'mgóica',\n",
              " 'ngóica',\n",
              " 'ogóica',\n",
              " 'pgóica',\n",
              " 'qgóica',\n",
              " 'rgóica',\n",
              " 'sgóica',\n",
              " 'tgóica',\n",
              " 'ugóica',\n",
              " 'vgóica',\n",
              " 'wgóica',\n",
              " 'xgóica',\n",
              " 'ygóica',\n",
              " 'zgóica',\n",
              " 'àgóica',\n",
              " 'ágóica',\n",
              " 'âgóica',\n",
              " 'ãgóica',\n",
              " 'ègóica',\n",
              " 'égóica',\n",
              " 'êgóica',\n",
              " 'ìgóica',\n",
              " 'ígóica',\n",
              " 'îgóica',\n",
              " 'ògóica',\n",
              " 'ógóica',\n",
              " 'ôgóica',\n",
              " 'õgóica',\n",
              " 'ùgóica',\n",
              " 'úgóica',\n",
              " 'ûgóica',\n",
              " 'çgóica',\n",
              " 'laóica',\n",
              " 'lbóica',\n",
              " 'lcóica',\n",
              " 'ldóica',\n",
              " 'leóica',\n",
              " 'lfóica',\n",
              " 'lgóica',\n",
              " 'lhóica',\n",
              " 'lióica',\n",
              " 'ljóica',\n",
              " 'lkóica',\n",
              " 'llóica',\n",
              " 'lmóica',\n",
              " 'lnóica',\n",
              " 'loóica',\n",
              " 'lpóica',\n",
              " 'lqóica',\n",
              " 'lróica',\n",
              " 'lsóica',\n",
              " 'ltóica',\n",
              " 'luóica',\n",
              " 'lvóica',\n",
              " 'lwóica',\n",
              " 'lxóica',\n",
              " 'lyóica',\n",
              " 'lzóica',\n",
              " 'làóica',\n",
              " 'láóica',\n",
              " 'lâóica',\n",
              " 'lãóica',\n",
              " 'lèóica',\n",
              " 'léóica',\n",
              " 'lêóica',\n",
              " 'lìóica',\n",
              " 'líóica',\n",
              " 'lîóica',\n",
              " 'lòóica',\n",
              " 'lóóica',\n",
              " 'lôóica',\n",
              " 'lõóica',\n",
              " 'lùóica',\n",
              " 'lúóica',\n",
              " 'lûóica',\n",
              " 'lçóica',\n",
              " 'lgaica',\n",
              " 'lgbica',\n",
              " 'lgcica',\n",
              " 'lgdica',\n",
              " 'lgeica',\n",
              " 'lgfica',\n",
              " 'lggica',\n",
              " 'lghica',\n",
              " 'lgiica',\n",
              " 'lgjica',\n",
              " 'lgkica',\n",
              " 'lglica',\n",
              " 'lgmica',\n",
              " 'lgnica',\n",
              " 'lgoica',\n",
              " 'lgpica',\n",
              " 'lgqica',\n",
              " 'lgrica',\n",
              " 'lgsica',\n",
              " 'lgtica',\n",
              " 'lguica',\n",
              " 'lgvica',\n",
              " 'lgwica',\n",
              " 'lgxica',\n",
              " 'lgyica',\n",
              " 'lgzica',\n",
              " 'lgàica',\n",
              " 'lgáica',\n",
              " 'lgâica',\n",
              " 'lgãica',\n",
              " 'lgèica',\n",
              " 'lgéica',\n",
              " 'lgêica',\n",
              " 'lgìica',\n",
              " 'lgíica',\n",
              " 'lgîica',\n",
              " 'lgòica',\n",
              " 'lgóica',\n",
              " 'lgôica',\n",
              " 'lgõica',\n",
              " 'lgùica',\n",
              " 'lgúica',\n",
              " 'lgûica',\n",
              " 'lgçica',\n",
              " 'lgóaca',\n",
              " 'lgóbca',\n",
              " 'lgócca',\n",
              " 'lgódca',\n",
              " 'lgóeca',\n",
              " 'lgófca',\n",
              " 'lgógca',\n",
              " 'lgóhca',\n",
              " 'lgóica',\n",
              " 'lgójca',\n",
              " 'lgókca',\n",
              " 'lgólca',\n",
              " 'lgómca',\n",
              " 'lgónca',\n",
              " 'lgóoca',\n",
              " 'lgópca',\n",
              " 'lgóqca',\n",
              " 'lgórca',\n",
              " 'lgósca',\n",
              " 'lgótca',\n",
              " 'lgóuca',\n",
              " 'lgóvca',\n",
              " 'lgówca',\n",
              " 'lgóxca',\n",
              " 'lgóyca',\n",
              " 'lgózca',\n",
              " 'lgóàca',\n",
              " 'lgóáca',\n",
              " 'lgóâca',\n",
              " 'lgóãca',\n",
              " 'lgóèca',\n",
              " 'lgóéca',\n",
              " 'lgóêca',\n",
              " 'lgóìca',\n",
              " 'lgóíca',\n",
              " 'lgóîca',\n",
              " 'lgóòca',\n",
              " 'lgóóca',\n",
              " 'lgóôca',\n",
              " 'lgóõca',\n",
              " 'lgóùca',\n",
              " 'lgóúca',\n",
              " 'lgóûca',\n",
              " 'lgóçca',\n",
              " 'lgóiaa',\n",
              " 'lgóiba',\n",
              " 'lgóica',\n",
              " 'lgóida',\n",
              " 'lgóiea',\n",
              " 'lgóifa',\n",
              " 'lgóiga',\n",
              " 'lgóiha',\n",
              " 'lgóiia',\n",
              " 'lgóija',\n",
              " 'lgóika',\n",
              " 'lgóila',\n",
              " 'lgóima',\n",
              " 'lgóina',\n",
              " 'lgóioa',\n",
              " 'lgóipa',\n",
              " 'lgóiqa',\n",
              " 'lgóira',\n",
              " 'lgóisa',\n",
              " 'lgóita',\n",
              " 'lgóiua',\n",
              " 'lgóiva',\n",
              " 'lgóiwa',\n",
              " 'lgóixa',\n",
              " 'lgóiya',\n",
              " 'lgóiza',\n",
              " 'lgóiàa',\n",
              " 'lgóiáa',\n",
              " 'lgóiâa',\n",
              " 'lgóiãa',\n",
              " 'lgóièa',\n",
              " 'lgóiéa',\n",
              " 'lgóiêa',\n",
              " 'lgóiìa',\n",
              " 'lgóiía',\n",
              " 'lgóiîa',\n",
              " 'lgóiòa',\n",
              " 'lgóióa',\n",
              " 'lgóiôa',\n",
              " 'lgóiõa',\n",
              " 'lgóiùa',\n",
              " 'lgóiúa',\n",
              " 'lgóiûa',\n",
              " 'lgóiça',\n",
              " 'lgóica',\n",
              " 'lgóicb',\n",
              " 'lgóicc',\n",
              " 'lgóicd',\n",
              " 'lgóice',\n",
              " 'lgóicf',\n",
              " 'lgóicg',\n",
              " 'lgóich',\n",
              " 'lgóici',\n",
              " 'lgóicj',\n",
              " 'lgóick',\n",
              " 'lgóicl',\n",
              " 'lgóicm',\n",
              " 'lgóicn',\n",
              " 'lgóico',\n",
              " 'lgóicp',\n",
              " 'lgóicq',\n",
              " 'lgóicr',\n",
              " 'lgóics',\n",
              " 'lgóict',\n",
              " 'lgóicu',\n",
              " 'lgóicv',\n",
              " 'lgóicw',\n",
              " 'lgóicx',\n",
              " 'lgóicy',\n",
              " 'lgóicz',\n",
              " 'lgóicà',\n",
              " 'lgóicá',\n",
              " 'lgóicâ',\n",
              " 'lgóicã',\n",
              " 'lgóicè',\n",
              " 'lgóicé',\n",
              " 'lgóicê',\n",
              " 'lgóicì',\n",
              " 'lgóicí',\n",
              " 'lgóicî',\n",
              " 'lgóicò',\n",
              " 'lgóicó',\n",
              " 'lgóicô',\n",
              " 'lgóicõ',\n",
              " 'lgóicù',\n",
              " 'lgóicú',\n",
              " 'lgóicû',\n",
              " 'lgóicç',\n",
              " 'lgóicaa',\n",
              " 'lgóicab',\n",
              " 'lgóicac',\n",
              " 'lgóicad',\n",
              " 'lgóicae',\n",
              " 'lgóicaf',\n",
              " 'lgóicag',\n",
              " 'lgóicah',\n",
              " 'lgóicai',\n",
              " 'lgóicaj',\n",
              " 'lgóicak',\n",
              " 'lgóical',\n",
              " 'lgóicam',\n",
              " 'lgóican',\n",
              " 'lgóicao',\n",
              " 'lgóicap',\n",
              " 'lgóicaq',\n",
              " 'lgóicar',\n",
              " 'lgóicas',\n",
              " 'lgóicat',\n",
              " 'lgóicau',\n",
              " 'lgóicav',\n",
              " 'lgóicaw',\n",
              " 'lgóicax',\n",
              " 'lgóicay',\n",
              " 'lgóicaz',\n",
              " 'lgóicaà',\n",
              " 'lgóicaá',\n",
              " 'lgóicaâ',\n",
              " 'lgóicaã',\n",
              " 'lgóicaè',\n",
              " 'lgóicaé',\n",
              " 'lgóicaê',\n",
              " 'lgóicaì',\n",
              " 'lgóicaí',\n",
              " 'lgóicaî',\n",
              " 'lgóicaò',\n",
              " 'lgóicaó',\n",
              " 'lgóicaô',\n",
              " 'lgóicaõ',\n",
              " 'lgóicaù',\n",
              " 'lgóicaú',\n",
              " 'lgóicaû',\n",
              " 'lgóicaç',\n",
              " 'glóica',\n",
              " 'lógica',\n",
              " 'lgióca',\n",
              " 'lgócia',\n",
              " 'lgóiac']"
            ]
          },
          "metadata": {
            "tags": []
          },
          "execution_count": 49
        }
      ]
    },
    {
      "cell_type": "code",
      "metadata": {
        "colab": {
          "base_uri": "https://localhost:8080/"
        },
        "id": "gu6piC_-BKUV",
        "outputId": "124eca39-a3e8-4307-e373-758e85be338a"
      },
      "source": [
        "avaliador(lista_teste)"
      ],
      "execution_count": 51,
      "outputs": [
        {
          "output_type": "stream",
          "text": [
            "Taxa de Acerto: 76.34% de 186 palavras\n"
          ],
          "name": "stdout"
        }
      ]
    },
    {
      "cell_type": "markdown",
      "metadata": {
        "id": "F75eq8cLCIfx"
      },
      "source": [
        "# Porcentagem de Palavras Desconhecidas"
      ]
    },
    {
      "cell_type": "code",
      "metadata": {
        "id": "NUPwRrDjBTYa"
      },
      "source": [
        "def avaliador(testes, vocabulario):\n",
        "  numero_palavras = len(testes)\n",
        "  acertou = 0\n",
        "  desconhecida = 0\n",
        "  for correta, errada in testes:\n",
        "    palavra_corrigida = corretor(errada)\n",
        "    if palavra_corrigida == correta:\n",
        "      acertou += 1\n",
        "    else:\n",
        "      desconhecida += (correta not in vocabulario)\n",
        "  taxa_acerto = acertou * 100 / numero_palavras\n",
        "  taxa_desconhecida = desconhecida * 100 / numero_palavras\n",
        "  print(f'Taxa de Acerto: {taxa_acerto:.2f}% de {numero_palavras} palavras')\n",
        "  print(f'Taxa de Desconhecidas: {taxa_desconhecida:.2f}%')"
      ],
      "execution_count": 54,
      "outputs": []
    },
    {
      "cell_type": "code",
      "metadata": {
        "colab": {
          "base_uri": "https://localhost:8080/"
        },
        "id": "YuRfKv2hDyg7",
        "outputId": "4142eac7-c053-4039-97cb-bfcd2261a491"
      },
      "source": [
        "vocabulario = set(lista_normalizada)\n",
        "avaliador(lista_teste, vocabulario)"
      ],
      "execution_count": 55,
      "outputs": [
        {
          "output_type": "stream",
          "text": [
            "Taxa de Acerto: 76.34% de 186 palavras\n",
            "Taxa de Desconhecidas: 6.99%\n"
          ],
          "name": "stdout"
        }
      ]
    },
    {
      "cell_type": "markdown",
      "metadata": {
        "id": "QVgKiTzdEfez"
      },
      "source": [
        "# Correção de Duas Letras em uma Palavra"
      ]
    },
    {
      "cell_type": "code",
      "metadata": {
        "id": "_8VJILGgD37q"
      },
      "source": [
        "def gerador_turbinado(palavras_geradas):\n",
        "  novas_palavras = []\n",
        "  for palavra in palavras_geradas:\n",
        "    novas_palavras += gerador_palavras(palavra)\n",
        "  return novas_palavras"
      ],
      "execution_count": 56,
      "outputs": []
    },
    {
      "cell_type": "code",
      "metadata": {
        "colab": {
          "base_uri": "https://localhost:8080/"
        },
        "id": "IPI94b8gFuyb",
        "outputId": "84acf70a-2068-4df1-a997-e51d9644a437"
      },
      "source": [
        "palavra = 'lóiigica'\n",
        "palavras_geradas = gerador_turbinado(gerador_palavras(palavra))\n",
        "'lógica' in palavras_geradas"
      ],
      "execution_count": 58,
      "outputs": [
        {
          "output_type": "execute_result",
          "data": {
            "text/plain": [
              "True"
            ]
          },
          "metadata": {
            "tags": []
          },
          "execution_count": 58
        }
      ]
    },
    {
      "cell_type": "code",
      "metadata": {
        "colab": {
          "base_uri": "https://localhost:8080/"
        },
        "id": "qikElTHYGQi9",
        "outputId": "c2b078a1-c457-4bba-f9df-77003436582e"
      },
      "source": [
        "len(palavras_geradas)"
      ],
      "execution_count": 59,
      "outputs": [
        {
          "output_type": "execute_result",
          "data": {
            "text/plain": [
              "691744"
            ]
          },
          "metadata": {
            "tags": []
          },
          "execution_count": 59
        }
      ]
    },
    {
      "cell_type": "markdown",
      "metadata": {
        "id": "5L53m7A8GlsM"
      },
      "source": [
        "**O número de palavras geradas são enormes, inviável**"
      ]
    },
    {
      "cell_type": "markdown",
      "metadata": {
        "id": "MSry7W7TG2Na"
      },
      "source": [
        "## Definindo um Novo Corretor"
      ]
    },
    {
      "cell_type": "code",
      "metadata": {
        "id": "mpvN0TlmGUj7"
      },
      "source": [
        "def novo_corretor(palavra):\n",
        "  palavras_geradas = gerador_palavras(palavra)\n",
        "  palavras_turbinado = gerador_turbinado(palavras_geradas)\n",
        "  todas_palavras = set(palavras_geradas + palavras_turbinado)\n",
        "  candidatos = [palavra]\n",
        "  for palavra in todas_palavras:\n",
        "    if palavra in vocabulario:\n",
        "      candidatos.append(palavra)\n",
        "  palavra_correta = max(candidatos, key=probabilidade)\n",
        "  return palavra_correta"
      ],
      "execution_count": 73,
      "outputs": []
    },
    {
      "cell_type": "code",
      "metadata": {
        "colab": {
          "base_uri": "https://localhost:8080/",
          "height": 35
        },
        "id": "Bh3RArY_H_bS",
        "outputId": "e91d9fcf-9b34-4723-9c68-4a3af7cac598"
      },
      "source": [
        "novo_corretor(palavra)"
      ],
      "execution_count": 68,
      "outputs": [
        {
          "output_type": "execute_result",
          "data": {
            "application/vnd.google.colaboratory.intrinsic+json": {
              "type": "string"
            },
            "text/plain": [
              "'lógica'"
            ]
          },
          "metadata": {
            "tags": []
          },
          "execution_count": 68
        }
      ]
    },
    {
      "cell_type": "code",
      "metadata": {
        "id": "XJz3j-PuIEbX"
      },
      "source": [
        "def novo_avaliador(testes, vocabulario):\n",
        "  numero_palavras = len(testes)\n",
        "  acertou = 0\n",
        "  desconhecida = 0\n",
        "  for correta, errada in testes:\n",
        "    palavra_corrigida = novo_corretor(errada)\n",
        "    desconhecida += (correta not in vocabulario)\n",
        "    if palavra_corrigida == correta:\n",
        "      acertou += 1\n",
        "  taxa_acerto = acertou * 100 / numero_palavras\n",
        "  taxa_desconhecida = desconhecida * 100 / numero_palavras\n",
        "  print(f'Taxa de Acerto: {taxa_acerto:.2f}% de {numero_palavras} palavras')\n",
        "  print(f'Taxa de Desconhecidas: {taxa_desconhecida:.2f}%')"
      ],
      "execution_count": 75,
      "outputs": []
    },
    {
      "cell_type": "code",
      "metadata": {
        "colab": {
          "base_uri": "https://localhost:8080/"
        },
        "id": "FYWE2QHzJiPX",
        "outputId": "dfd98d17-5130-4ffa-ffdb-bcd1ce876b9d"
      },
      "source": [
        "novo_avaliador(lista_teste, vocabulario)"
      ],
      "execution_count": 76,
      "outputs": [
        {
          "output_type": "stream",
          "text": [
            "Taxa de Acerto: 55.91% de 186 palavras\n",
            "Taxa de Desconhecidas: 6.99%\n"
          ],
          "name": "stdout"
        }
      ]
    }
  ]
}